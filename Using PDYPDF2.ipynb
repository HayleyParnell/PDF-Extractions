{
 "cells": [
  {
   "cell_type": "code",
   "execution_count": 12,
   "id": "bfffa348-4b03-464e-9560-8b9f0edcf1de",
   "metadata": {},
   "outputs": [],
   "source": [
    "import PyPDF2\n",
    "import os\n",
    "import tabula\n",
    "from PIL import Image\n",
    "import pytesseract"
   ]
  },
  {
   "cell_type": "code",
   "execution_count": 13,
   "id": "c0696adb-234b-4356-b435-f02d7482eddf",
   "metadata": {},
   "outputs": [],
   "source": [
    "#File Path\n",
    "directory = r'C:\\Users\\hparnell\\Desktop\\MH100011\\10 Insuranse PDFs'"
   ]
  },
  {
   "cell_type": "code",
   "execution_count": 14,
   "id": "c850893c-e722-401c-9a4b-f7e9bb1e679a",
   "metadata": {},
   "outputs": [],
   "source": [
    "#Extract text from the PDFs\n",
    "def extract_text_from_pdf(pdf_file):\n",
    "    pdf_file_path = os.path.join(directory, pdf_file)\n",
    "    with open(pdf_file_path, 'rb') as f:\n",
    "        pdf_reader = PyPDF2.PdfFileReader(f)\n",
    "        pdf_text =''\n",
    "        for page_num in range(pdf_reader.numPages):\n",
    "            page = pdf_reader.getPage(page_num)\n",
    "            pdf_text += page.extract_text()\n",
    "    return pdf_text"
   ]
  },
  {
   "cell_type": "code",
   "execution_count": 15,
   "id": "a9e6d017-4496-406d-9946-449c3d68efd9",
   "metadata": {},
   "outputs": [],
   "source": [
    "#Iterate through the PDF\n",
    "for filename in os.listdir(directory):\n",
    "    if filename.endswith('.pdf'):\n",
    "        full_path = os.path.join(directory, filename)\n",
    "        print(f'Extracting text from: {filename}')\n",
    "        text = extract_text_from_pdf(full_path)\n",
    "        print(text)"
   ]
  },
  {
   "cell_type": "code",
   "execution_count": 16,
   "id": "fd8075b7-b134-40e5-bcbf-1def37383f90",
   "metadata": {},
   "outputs": [],
   "source": [
    "# Function to extract tables from a PDF file\n",
    "def extract_tables_from_pdf(pdf_file):\n",
    "    pdf_file_path = os.path.join(directory, pdf_file)\n",
    "    dfs = tabula.read_pdf(pdf_file_path, pages='all', multiple_tables=True)\n",
    "    return dfs\n",
    "\n",
    "# Iterate through each PDF file in the directory\n",
    "for filename in os.listdir(directory):\n",
    "    if filename.endswith('.pdf'):\n",
    "        full_path = os.path.join(directory, filename)\n",
    "        print(f'Extracting tables from: {filename}')\n",
    "        tables = extract_tables_from_pdf(full_path)\n",
    "        for table in tables:\n",
    "            print(table)  # Print or process each table as needed"
   ]
  },
  {
   "cell_type": "code",
   "execution_count": 25,
   "id": "f9f5cee6-9c06-451f-9d7a-57cd73b40158",
   "metadata": {},
   "outputs": [
    {
     "name": "stdout",
     "output_type": "stream",
     "text": [
      "Extracting text from: C:\\Users\\hparnell\\Desktop\\MH100011\\10 Insuranse PDFs\\LEX-0000000009.pdf\n",
      "Text extracted from C:\\Users\\hparnell\\Desktop\\MH100011\\10 Insuranse PDFs\\LEX-0000000009.pdf:\n",
      "REQUESTING PROVIDER\n",
      " Neurodiagnostics Inc. NAME\n",
      " 1124207378NPIProvider DetailsNo Additional Payer Information PAYER  ANTHEM BLUE CROSS BLUE SHIELD\n",
      "PAYER ID  160Other or Additional Payers Payer DetailsSUBSCRIBER  ADAMS, ROBERT\n",
      "MEMBER ID  YZD819M57518RELATIONSHIP TO SUBSCRIBER  Spouse\n",
      "CONTRACT CODE / CASE NUMBER  3V5F\n",
      "GROUP NUMBER  W11799M001\n",
      "PLAN SPONSOR NAME  SODREL TRUCK LINES INC\n",
      "PLAN NAME  SODREL TRUCK LINES INC\n",
      "PLAN NUMBER  130Subscriber Information Patient Information\n",
      "MEMBER ID  YZD819M5751\n"
     ]
    }
   ],
   "source": [
    "import os\n",
    "import pandas as pd\n",
    "from PyPDF2 import PdfReader\n",
    "\n",
    "# File path to the specific PDF file\n",
    "pdf_file_path = r'C:\\Users\\hparnell\\Desktop\\MH100011\\10 Insuranse PDFs\\LEX-0000000009.pdf'\n",
    "\n",
    "# Function to extract text from a PDF file\n",
    "def extract_text_from_pdf(pdf_file_path):\n",
    "    with open(pdf_file_path, 'rb') as f:\n",
    "        pdf_reader = PdfReader(f)\n",
    "        pdf_text = ''\n",
    "        for page_num in range(len(pdf_reader.pages)):\n",
    "            page = pdf_reader.pages[page_num]\n",
    "            pdf_text += page.extract_text()\n",
    "    return pdf_text\n",
    "\n",
    "# Check if the specified file is a PDF\n",
    "if pdf_file_path.lower().endswith('.pdf'):\n",
    "    print(f'Extracting text from: {pdf_file_path}')\n",
    "    extracted_text = extract_text_from_pdf(pdf_file_path)\n",
    "    print(f'Text extracted from {pdf_file_path}:')\n",
    "    print(extracted_text[:500])  # Print the first 500 characters of extracted text for inspection\n",
    "\n",
    "    # Create a list to store extracted data\n",
    "    data = [{'Filename': os.path.basename(pdf_file_path), 'Text': extracted_text}]\n",
    "\n",
    "    # Create a DataFrame from the extracted data\n",
    "    df = pd.DataFrame(data)\n",
    "\n",
    "    # Display the DataFrame (for inspection)\n",
    "    df"
   ]
  },
  {
   "cell_type": "code",
   "execution_count": null,
   "id": "fdc3abf2-fff9-44c2-91fc-9d63da12aafd",
   "metadata": {},
   "outputs": [],
   "source": []
  }
 ],
 "metadata": {
  "kernelspec": {
   "display_name": "Python 3 (ipykernel)",
   "language": "python",
   "name": "python3"
  },
  "language_info": {
   "codemirror_mode": {
    "name": "ipython",
    "version": 3
   },
   "file_extension": ".py",
   "mimetype": "text/x-python",
   "name": "python",
   "nbconvert_exporter": "python",
   "pygments_lexer": "ipython3",
   "version": "3.10.14"
  }
 },
 "nbformat": 4,
 "nbformat_minor": 5
}
