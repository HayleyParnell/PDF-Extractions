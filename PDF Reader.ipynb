{
 "cells": [
  {
   "cell_type": "code",
   "execution_count": 1,
   "id": "bfffa348-4b03-464e-9560-8b9f0edcf1de",
   "metadata": {},
   "outputs": [],
   "source": [
    "import PyPDF2\n",
    "import os\n",
    "import tabula\n",
    "from PIL import Image\n",
    "import pytesseract"
   ]
  },
  {
   "cell_type": "code",
   "execution_count": 2,
   "id": "c0696adb-234b-4356-b435-f02d7482eddf",
   "metadata": {},
   "outputs": [],
   "source": [
    "#File Path\n",
    "directory = r'C:\\Users\\hparnell\\Desktop\\MH100011\\10 Insuranse PDFs'"
   ]
  },
  {
   "cell_type": "code",
   "execution_count": 3,
   "id": "c850893c-e722-401c-9a4b-f7e9bb1e679a",
   "metadata": {},
   "outputs": [],
   "source": [
    "#Extract text from the PDFs\n",
    "def extract_text_from_pdf(pdf_file):\n",
    "    pdf_file_path = os.path.join(directory, pdf_file)\n",
    "    with open(pdf_file_path, 'rb') as f:\n",
    "        pdf_reader = PyPDF2.PdfFileReader(f)\n",
    "        pdf_text =''\n",
    "        for page_num in range(pdf_reader.numPages):\n",
    "            page = pdf_reader.getPage(page_num)\n",
    "            pdf_text += page.extract_text()\n",
    "    return pdf_text"
   ]
  },
  {
   "cell_type": "code",
   "execution_count": 4,
   "id": "a9e6d017-4496-406d-9946-449c3d68efd9",
   "metadata": {},
   "outputs": [],
   "source": [
    "#Iterate through the PDF\n",
    "for filename in os.listdir(directory):\n",
    "    if filename.endswith('.pdf'):\n",
    "        full_path = os.path.join(directory, filename)\n",
    "        print(f'Extracting text from: {filename}')\n",
    "        text = extract_text_from_pdf(full_path)\n",
    "        print(text)"
   ]
  },
  {
   "cell_type": "code",
   "execution_count": 5,
   "id": "fd8075b7-b134-40e5-bcbf-1def37383f90",
   "metadata": {},
   "outputs": [],
   "source": [
    "# Function to extract tables from a PDF file\n",
    "def extract_tables_from_pdf(pdf_file):\n",
    "    pdf_file_path = os.path.join(directory, pdf_file)\n",
    "    dfs = tabula.read_pdf(pdf_file_path, pages='all', multiple_tables=True)\n",
    "    return dfs\n",
    "\n",
    "# Iterate through each PDF file in the directory\n",
    "for filename in os.listdir(directory):\n",
    "    if filename.endswith('.pdf'):\n",
    "        full_path = os.path.join(directory, filename)\n",
    "        print(f'Extracting tables from: {filename}')\n",
    "        tables = extract_tables_from_pdf(full_path)\n",
    "        for table in tables:\n",
    "            print(table)  # Print or process each table as needed"
   ]
  },
  {
   "cell_type": "code",
   "execution_count": null,
   "id": "8943c1f7-ff79-43c2-9b7e-ffa31c91ff93",
   "metadata": {},
   "outputs": [],
   "source": []
  }
 ],
 "metadata": {
  "kernelspec": {
   "display_name": "Python 3 (ipykernel)",
   "language": "python",
   "name": "python3"
  },
  "language_info": {
   "codemirror_mode": {
    "name": "ipython",
    "version": 3
   },
   "file_extension": ".py",
   "mimetype": "text/x-python",
   "name": "python",
   "nbconvert_exporter": "python",
   "pygments_lexer": "ipython3",
   "version": "3.10.14"
  }
 },
 "nbformat": 4,
 "nbformat_minor": 5
}
